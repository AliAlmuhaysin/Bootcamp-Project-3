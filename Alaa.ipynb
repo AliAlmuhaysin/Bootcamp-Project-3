{
 "cells": [
  {
   "cell_type": "markdown",
   "metadata": {
    "id": "9clOHs8hGU9C"
   },
   "source": [
    "# import lib"
   ]
  },
  {
   "cell_type": "code",
   "execution_count": 1,
   "metadata": {
    "id": "GQ3PE0jRSDkR"
   },
   "outputs": [],
   "source": [
    "import pandas as pd \n",
    "import seaborn as sns \n",
    "import plotly.express as px"
   ]
  },
  {
   "cell_type": "markdown",
   "metadata": {
    "id": "xRJhmUALYuWG"
   },
   "source": [
    "# Load dataset"
   ]
  },
  {
   "cell_type": "code",
   "execution_count": 2,
   "metadata": {
    "colab": {
     "base_uri": "https://localhost:8080/",
     "height": 267
    },
    "id": "zVNvES3dGlRv",
    "outputId": "da37146e-36c9-4ccd-9844-2f4994cb4efc"
   },
   "outputs": [
    {
     "name": "stderr",
     "output_type": "stream",
     "text": [
      "C:\\Users\\Lenovo\\AppData\\Local\\Temp\\ipykernel_108488\\361705929.py:1: DtypeWarning: Columns (16) have mixed types. Specify dtype option on import or set low_memory=False.\n",
      "  df = pd.read_csv('RiyadhVillasAqar.csv')\n"
     ]
    },
    {
     "data": {
      "text/html": [
       "<div>\n",
       "<style scoped>\n",
       "    .dataframe tbody tr th:only-of-type {\n",
       "        vertical-align: middle;\n",
       "    }\n",
       "\n",
       "    .dataframe tbody tr th {\n",
       "        vertical-align: top;\n",
       "    }\n",
       "\n",
       "    .dataframe thead th {\n",
       "        text-align: right;\n",
       "    }\n",
       "</style>\n",
       "<table border=\"1\" class=\"dataframe\">\n",
       "  <thead>\n",
       "    <tr style=\"text-align: right;\">\n",
       "      <th></th>\n",
       "      <th>Unnamed: 0</th>\n",
       "      <th>front</th>\n",
       "      <th>rooms</th>\n",
       "      <th>lounges</th>\n",
       "      <th>bathrooms</th>\n",
       "      <th>streetWidth</th>\n",
       "      <th>stairs</th>\n",
       "      <th>propertyAge</th>\n",
       "      <th>driverRoom</th>\n",
       "      <th>tent</th>\n",
       "      <th>...</th>\n",
       "      <th>apartments</th>\n",
       "      <th>maidRoom</th>\n",
       "      <th>elevator</th>\n",
       "      <th>furnihsed</th>\n",
       "      <th>pool</th>\n",
       "      <th>basement</th>\n",
       "      <th>neighbourhood</th>\n",
       "      <th>location</th>\n",
       "      <th>price</th>\n",
       "      <th>square price</th>\n",
       "    </tr>\n",
       "  </thead>\n",
       "  <tbody>\n",
       "    <tr>\n",
       "      <th>0</th>\n",
       "      <td>0</td>\n",
       "      <td>شرقية</td>\n",
       "      <td>5</td>\n",
       "      <td>4.0</td>\n",
       "      <td>5+</td>\n",
       "      <td>20.0</td>\n",
       "      <td>1.0</td>\n",
       "      <td>0.0</td>\n",
       "      <td>1.0</td>\n",
       "      <td>1.0</td>\n",
       "      <td>...</td>\n",
       "      <td>0</td>\n",
       "      <td>0.0</td>\n",
       "      <td>0.0</td>\n",
       "      <td>0.0</td>\n",
       "      <td>0.0</td>\n",
       "      <td>0.0</td>\n",
       "      <td>عكاظ</td>\n",
       "      <td>جنوب الرياض</td>\n",
       "      <td>1050000.0</td>\n",
       "      <td>3500.000000</td>\n",
       "    </tr>\n",
       "    <tr>\n",
       "      <th>1</th>\n",
       "      <td>1</td>\n",
       "      <td>غربية</td>\n",
       "      <td>4</td>\n",
       "      <td>3.0</td>\n",
       "      <td>5+</td>\n",
       "      <td>20.0</td>\n",
       "      <td>1.0</td>\n",
       "      <td>0.0</td>\n",
       "      <td>1.0</td>\n",
       "      <td>1.0</td>\n",
       "      <td>...</td>\n",
       "      <td>2.0</td>\n",
       "      <td>1.0</td>\n",
       "      <td>1.0</td>\n",
       "      <td>0.0</td>\n",
       "      <td>0.0</td>\n",
       "      <td>0.0</td>\n",
       "      <td>المهدية</td>\n",
       "      <td>غرب الرياض</td>\n",
       "      <td>3000000.0</td>\n",
       "      <td>5555.555556</td>\n",
       "    </tr>\n",
       "    <tr>\n",
       "      <th>2</th>\n",
       "      <td>2</td>\n",
       "      <td>جنوبية شرقية</td>\n",
       "      <td>7</td>\n",
       "      <td>2.0</td>\n",
       "      <td>5+</td>\n",
       "      <td>15.0</td>\n",
       "      <td>1.0</td>\n",
       "      <td>31.0</td>\n",
       "      <td>1.0</td>\n",
       "      <td>0.0</td>\n",
       "      <td>...</td>\n",
       "      <td>0</td>\n",
       "      <td>1.0</td>\n",
       "      <td>0.0</td>\n",
       "      <td>0.0</td>\n",
       "      <td>0.0</td>\n",
       "      <td>0.0</td>\n",
       "      <td>الشفا</td>\n",
       "      <td>جنوب الرياض</td>\n",
       "      <td>2000000.0</td>\n",
       "      <td>2285.714286</td>\n",
       "    </tr>\n",
       "    <tr>\n",
       "      <th>3</th>\n",
       "      <td>3</td>\n",
       "      <td>غربية</td>\n",
       "      <td>7</td>\n",
       "      <td>3.0</td>\n",
       "      <td>5+</td>\n",
       "      <td>15.0</td>\n",
       "      <td>1.0</td>\n",
       "      <td>3.0</td>\n",
       "      <td>0.0</td>\n",
       "      <td>1.0</td>\n",
       "      <td>...</td>\n",
       "      <td>0</td>\n",
       "      <td>1.0</td>\n",
       "      <td>0.0</td>\n",
       "      <td>1.0</td>\n",
       "      <td>0.0</td>\n",
       "      <td>0.0</td>\n",
       "      <td>ظهرة لبن</td>\n",
       "      <td>غرب الرياض</td>\n",
       "      <td>894000.0</td>\n",
       "      <td>4470.000000</td>\n",
       "    </tr>\n",
       "    <tr>\n",
       "      <th>4</th>\n",
       "      <td>4</td>\n",
       "      <td>شمالية</td>\n",
       "      <td>4</td>\n",
       "      <td>2.0</td>\n",
       "      <td>4</td>\n",
       "      <td>25.0</td>\n",
       "      <td>1.0</td>\n",
       "      <td>0.0</td>\n",
       "      <td>1.0</td>\n",
       "      <td>1.0</td>\n",
       "      <td>...</td>\n",
       "      <td>3.0</td>\n",
       "      <td>1.0</td>\n",
       "      <td>1.0</td>\n",
       "      <td>1.0</td>\n",
       "      <td>0.0</td>\n",
       "      <td>0.0</td>\n",
       "      <td>قرطبة</td>\n",
       "      <td>شرق الرياض</td>\n",
       "      <td>3500000.0</td>\n",
       "      <td>8750.000000</td>\n",
       "    </tr>\n",
       "  </tbody>\n",
       "</table>\n",
       "<p>5 rows × 26 columns</p>\n",
       "</div>"
      ],
      "text/plain": [
       "   Unnamed: 0         front  rooms lounges bathrooms  streetWidth  stairs  \\\n",
       "0           0         شرقية      5     4.0        5+         20.0     1.0   \n",
       "1           1         غربية      4     3.0        5+         20.0     1.0   \n",
       "2           2  جنوبية شرقية      7     2.0        5+         15.0     1.0   \n",
       "3           3         غربية      7     3.0        5+         15.0     1.0   \n",
       "4           4        شمالية      4     2.0         4         25.0     1.0   \n",
       "\n",
       "   propertyAge  driverRoom  tent  ...  apartments  maidRoom  elevator  \\\n",
       "0          0.0         1.0   1.0  ...           0       0.0       0.0   \n",
       "1          0.0         1.0   1.0  ...         2.0       1.0       1.0   \n",
       "2         31.0         1.0   0.0  ...           0       1.0       0.0   \n",
       "3          3.0         0.0   1.0  ...           0       1.0       0.0   \n",
       "4          0.0         1.0   1.0  ...         3.0       1.0       1.0   \n",
       "\n",
       "   furnihsed  pool  basement neighbourhood     location      price  \\\n",
       "0        0.0   0.0       0.0         عكاظ   جنوب الرياض  1050000.0   \n",
       "1        0.0   0.0       0.0      المهدية    غرب الرياض  3000000.0   \n",
       "2        0.0   0.0       0.0        الشفا   جنوب الرياض  2000000.0   \n",
       "3        1.0   0.0       0.0     ظهرة لبن    غرب الرياض   894000.0   \n",
       "4        1.0   0.0       0.0        قرطبة    شرق الرياض  3500000.0   \n",
       "\n",
       "   square price  \n",
       "0   3500.000000  \n",
       "1   5555.555556  \n",
       "2   2285.714286  \n",
       "3   4470.000000  \n",
       "4   8750.000000  \n",
       "\n",
       "[5 rows x 26 columns]"
      ]
     },
     "execution_count": 2,
     "metadata": {},
     "output_type": "execute_result"
    }
   ],
   "source": [
    "df = pd.read_csv('RiyadhVillasAqar.csv')\n",
    "df.head(5)"
   ]
  },
  {
   "cell_type": "markdown",
   "metadata": {
    "id": "pI0KR12MY06H"
   },
   "source": [
    "# EDA"
   ]
  },
  {
   "cell_type": "code",
   "execution_count": 3,
   "metadata": {
    "colab": {
     "base_uri": "https://localhost:8080/"
    },
    "id": "iUJhneH9LADK",
    "outputId": "84059ed6-d313-4ef6-f7f6-318c2b1a1b86"
   },
   "outputs": [
    {
     "data": {
      "text/plain": [
       "(46826, 26)"
      ]
     },
     "execution_count": 3,
     "metadata": {},
     "output_type": "execute_result"
    }
   ],
   "source": [
    "df.shape"
   ]
  },
  {
   "cell_type": "code",
   "execution_count": 4,
   "metadata": {},
   "outputs": [
    {
     "data": {
      "text/html": [
       "<div>\n",
       "<style scoped>\n",
       "    .dataframe tbody tr th:only-of-type {\n",
       "        vertical-align: middle;\n",
       "    }\n",
       "\n",
       "    .dataframe tbody tr th {\n",
       "        vertical-align: top;\n",
       "    }\n",
       "\n",
       "    .dataframe thead th {\n",
       "        text-align: right;\n",
       "    }\n",
       "</style>\n",
       "<table border=\"1\" class=\"dataframe\">\n",
       "  <thead>\n",
       "    <tr style=\"text-align: right;\">\n",
       "      <th></th>\n",
       "      <th>Unnamed: 0</th>\n",
       "      <th>rooms</th>\n",
       "      <th>streetWidth</th>\n",
       "      <th>stairs</th>\n",
       "      <th>propertyAge</th>\n",
       "      <th>driverRoom</th>\n",
       "      <th>tent</th>\n",
       "      <th>patio</th>\n",
       "      <th>kitchen</th>\n",
       "      <th>outdoorRoom</th>\n",
       "      <th>garage</th>\n",
       "      <th>duplex</th>\n",
       "      <th>space</th>\n",
       "      <th>maidRoom</th>\n",
       "      <th>elevator</th>\n",
       "      <th>furnihsed</th>\n",
       "      <th>pool</th>\n",
       "      <th>basement</th>\n",
       "      <th>price</th>\n",
       "      <th>square price</th>\n",
       "    </tr>\n",
       "  </thead>\n",
       "  <tbody>\n",
       "    <tr>\n",
       "      <th>count</th>\n",
       "      <td>46826.000000</td>\n",
       "      <td>46826.000000</td>\n",
       "      <td>46636.000000</td>\n",
       "      <td>46826.000000</td>\n",
       "      <td>46826.000000</td>\n",
       "      <td>46826.000000</td>\n",
       "      <td>46826.000000</td>\n",
       "      <td>46826.000000</td>\n",
       "      <td>46826.000000</td>\n",
       "      <td>46826.000000</td>\n",
       "      <td>46826.000000</td>\n",
       "      <td>46826.000000</td>\n",
       "      <td>46826.000000</td>\n",
       "      <td>46826.000000</td>\n",
       "      <td>46826.000000</td>\n",
       "      <td>46826.000000</td>\n",
       "      <td>46826.000000</td>\n",
       "      <td>46826.000000</td>\n",
       "      <td>4.682400e+04</td>\n",
       "      <td>46824.000000</td>\n",
       "    </tr>\n",
       "    <tr>\n",
       "      <th>mean</th>\n",
       "      <td>25915.132384</td>\n",
       "      <td>4.687439</td>\n",
       "      <td>18.158418</td>\n",
       "      <td>0.683979</td>\n",
       "      <td>2.454790</td>\n",
       "      <td>0.355871</td>\n",
       "      <td>0.466258</td>\n",
       "      <td>0.769380</td>\n",
       "      <td>0.979114</td>\n",
       "      <td>0.645112</td>\n",
       "      <td>0.907872</td>\n",
       "      <td>0.297698</td>\n",
       "      <td>380.021740</td>\n",
       "      <td>0.767821</td>\n",
       "      <td>0.235745</td>\n",
       "      <td>0.078738</td>\n",
       "      <td>0.116410</td>\n",
       "      <td>0.037671</td>\n",
       "      <td>2.347636e+06</td>\n",
       "      <td>6088.058800</td>\n",
       "    </tr>\n",
       "    <tr>\n",
       "      <th>std</th>\n",
       "      <td>14993.821359</td>\n",
       "      <td>1.104970</td>\n",
       "      <td>4.167866</td>\n",
       "      <td>0.464926</td>\n",
       "      <td>6.496833</td>\n",
       "      <td>0.478781</td>\n",
       "      <td>0.498866</td>\n",
       "      <td>0.421234</td>\n",
       "      <td>0.143004</td>\n",
       "      <td>0.478485</td>\n",
       "      <td>0.289210</td>\n",
       "      <td>0.457251</td>\n",
       "      <td>281.431272</td>\n",
       "      <td>0.422227</td>\n",
       "      <td>0.424468</td>\n",
       "      <td>0.269333</td>\n",
       "      <td>0.320719</td>\n",
       "      <td>0.190402</td>\n",
       "      <td>2.782053e+06</td>\n",
       "      <td>4515.845244</td>\n",
       "    </tr>\n",
       "    <tr>\n",
       "      <th>min</th>\n",
       "      <td>0.000000</td>\n",
       "      <td>1.000000</td>\n",
       "      <td>1.000000</td>\n",
       "      <td>0.000000</td>\n",
       "      <td>0.000000</td>\n",
       "      <td>0.000000</td>\n",
       "      <td>0.000000</td>\n",
       "      <td>0.000000</td>\n",
       "      <td>0.000000</td>\n",
       "      <td>0.000000</td>\n",
       "      <td>0.000000</td>\n",
       "      <td>0.000000</td>\n",
       "      <td>50.000000</td>\n",
       "      <td>0.000000</td>\n",
       "      <td>0.000000</td>\n",
       "      <td>0.000000</td>\n",
       "      <td>0.000000</td>\n",
       "      <td>0.000000</td>\n",
       "      <td>1.080000e+03</td>\n",
       "      <td>3.428571</td>\n",
       "    </tr>\n",
       "    <tr>\n",
       "      <th>25%</th>\n",
       "      <td>12925.250000</td>\n",
       "      <td>4.000000</td>\n",
       "      <td>15.000000</td>\n",
       "      <td>0.000000</td>\n",
       "      <td>0.000000</td>\n",
       "      <td>0.000000</td>\n",
       "      <td>0.000000</td>\n",
       "      <td>1.000000</td>\n",
       "      <td>1.000000</td>\n",
       "      <td>0.000000</td>\n",
       "      <td>1.000000</td>\n",
       "      <td>0.000000</td>\n",
       "      <td>270.000000</td>\n",
       "      <td>1.000000</td>\n",
       "      <td>0.000000</td>\n",
       "      <td>0.000000</td>\n",
       "      <td>0.000000</td>\n",
       "      <td>0.000000</td>\n",
       "      <td>1.180000e+06</td>\n",
       "      <td>3866.666667</td>\n",
       "    </tr>\n",
       "    <tr>\n",
       "      <th>50%</th>\n",
       "      <td>25836.500000</td>\n",
       "      <td>5.000000</td>\n",
       "      <td>20.000000</td>\n",
       "      <td>1.000000</td>\n",
       "      <td>0.000000</td>\n",
       "      <td>0.000000</td>\n",
       "      <td>0.000000</td>\n",
       "      <td>1.000000</td>\n",
       "      <td>1.000000</td>\n",
       "      <td>1.000000</td>\n",
       "      <td>1.000000</td>\n",
       "      <td>0.000000</td>\n",
       "      <td>312.000000</td>\n",
       "      <td>1.000000</td>\n",
       "      <td>0.000000</td>\n",
       "      <td>0.000000</td>\n",
       "      <td>0.000000</td>\n",
       "      <td>0.000000</td>\n",
       "      <td>1.600000e+06</td>\n",
       "      <td>5000.000000</td>\n",
       "    </tr>\n",
       "    <tr>\n",
       "      <th>75%</th>\n",
       "      <td>38917.750000</td>\n",
       "      <td>5.000000</td>\n",
       "      <td>20.000000</td>\n",
       "      <td>1.000000</td>\n",
       "      <td>0.000000</td>\n",
       "      <td>1.000000</td>\n",
       "      <td>1.000000</td>\n",
       "      <td>1.000000</td>\n",
       "      <td>1.000000</td>\n",
       "      <td>1.000000</td>\n",
       "      <td>1.000000</td>\n",
       "      <td>1.000000</td>\n",
       "      <td>400.000000</td>\n",
       "      <td>1.000000</td>\n",
       "      <td>0.000000</td>\n",
       "      <td>0.000000</td>\n",
       "      <td>0.000000</td>\n",
       "      <td>0.000000</td>\n",
       "      <td>2.600000e+06</td>\n",
       "      <td>7600.000000</td>\n",
       "    </tr>\n",
       "    <tr>\n",
       "      <th>max</th>\n",
       "      <td>51844.000000</td>\n",
       "      <td>7.000000</td>\n",
       "      <td>100.000000</td>\n",
       "      <td>1.000000</td>\n",
       "      <td>35.000000</td>\n",
       "      <td>1.000000</td>\n",
       "      <td>1.000000</td>\n",
       "      <td>1.000000</td>\n",
       "      <td>1.000000</td>\n",
       "      <td>1.000000</td>\n",
       "      <td>1.000000</td>\n",
       "      <td>1.000000</td>\n",
       "      <td>10000.000000</td>\n",
       "      <td>1.000000</td>\n",
       "      <td>1.000000</td>\n",
       "      <td>1.000000</td>\n",
       "      <td>1.000000</td>\n",
       "      <td>1.000000</td>\n",
       "      <td>1.000000e+08</td>\n",
       "      <td>136144.578313</td>\n",
       "    </tr>\n",
       "  </tbody>\n",
       "</table>\n",
       "</div>"
      ],
      "text/plain": [
       "         Unnamed: 0         rooms   streetWidth        stairs   propertyAge  \\\n",
       "count  46826.000000  46826.000000  46636.000000  46826.000000  46826.000000   \n",
       "mean   25915.132384      4.687439     18.158418      0.683979      2.454790   \n",
       "std    14993.821359      1.104970      4.167866      0.464926      6.496833   \n",
       "min        0.000000      1.000000      1.000000      0.000000      0.000000   \n",
       "25%    12925.250000      4.000000     15.000000      0.000000      0.000000   \n",
       "50%    25836.500000      5.000000     20.000000      1.000000      0.000000   \n",
       "75%    38917.750000      5.000000     20.000000      1.000000      0.000000   \n",
       "max    51844.000000      7.000000    100.000000      1.000000     35.000000   \n",
       "\n",
       "         driverRoom          tent         patio       kitchen   outdoorRoom  \\\n",
       "count  46826.000000  46826.000000  46826.000000  46826.000000  46826.000000   \n",
       "mean       0.355871      0.466258      0.769380      0.979114      0.645112   \n",
       "std        0.478781      0.498866      0.421234      0.143004      0.478485   \n",
       "min        0.000000      0.000000      0.000000      0.000000      0.000000   \n",
       "25%        0.000000      0.000000      1.000000      1.000000      0.000000   \n",
       "50%        0.000000      0.000000      1.000000      1.000000      1.000000   \n",
       "75%        1.000000      1.000000      1.000000      1.000000      1.000000   \n",
       "max        1.000000      1.000000      1.000000      1.000000      1.000000   \n",
       "\n",
       "             garage        duplex         space      maidRoom      elevator  \\\n",
       "count  46826.000000  46826.000000  46826.000000  46826.000000  46826.000000   \n",
       "mean       0.907872      0.297698    380.021740      0.767821      0.235745   \n",
       "std        0.289210      0.457251    281.431272      0.422227      0.424468   \n",
       "min        0.000000      0.000000     50.000000      0.000000      0.000000   \n",
       "25%        1.000000      0.000000    270.000000      1.000000      0.000000   \n",
       "50%        1.000000      0.000000    312.000000      1.000000      0.000000   \n",
       "75%        1.000000      1.000000    400.000000      1.000000      0.000000   \n",
       "max        1.000000      1.000000  10000.000000      1.000000      1.000000   \n",
       "\n",
       "          furnihsed          pool      basement         price   square price  \n",
       "count  46826.000000  46826.000000  46826.000000  4.682400e+04   46824.000000  \n",
       "mean       0.078738      0.116410      0.037671  2.347636e+06    6088.058800  \n",
       "std        0.269333      0.320719      0.190402  2.782053e+06    4515.845244  \n",
       "min        0.000000      0.000000      0.000000  1.080000e+03       3.428571  \n",
       "25%        0.000000      0.000000      0.000000  1.180000e+06    3866.666667  \n",
       "50%        0.000000      0.000000      0.000000  1.600000e+06    5000.000000  \n",
       "75%        0.000000      0.000000      0.000000  2.600000e+06    7600.000000  \n",
       "max        1.000000      1.000000      1.000000  1.000000e+08  136144.578313  "
      ]
     },
     "execution_count": 4,
     "metadata": {},
     "output_type": "execute_result"
    }
   ],
   "source": [
    "df.describe()"
   ]
  },
  {
   "cell_type": "code",
   "execution_count": 5,
   "metadata": {},
   "outputs": [
    {
     "data": {
      "text/plain": [
       "Unnamed: 0         int64\n",
       "front             object\n",
       "rooms              int64\n",
       "lounges           object\n",
       "bathrooms         object\n",
       "streetWidth      float64\n",
       "stairs           float64\n",
       "propertyAge      float64\n",
       "driverRoom       float64\n",
       "tent             float64\n",
       "patio            float64\n",
       "kitchen          float64\n",
       "outdoorRoom      float64\n",
       "garage           float64\n",
       "duplex           float64\n",
       "space              int64\n",
       "apartments        object\n",
       "maidRoom         float64\n",
       "elevator         float64\n",
       "furnihsed        float64\n",
       "pool             float64\n",
       "basement         float64\n",
       "neighbourhood     object\n",
       "location          object\n",
       "price            float64\n",
       "square price     float64\n",
       "dtype: object"
      ]
     },
     "execution_count": 5,
     "metadata": {},
     "output_type": "execute_result"
    }
   ],
   "source": [
    "df.dtypes"
   ]
  },
  {
   "cell_type": "markdown",
   "metadata": {},
   "source": [
    "### Drop Unused columns"
   ]
  },
  {
   "cell_type": "code",
   "execution_count": 6,
   "metadata": {},
   "outputs": [],
   "source": [
    "df.drop(['Unnamed: 0'], axis='columns', inplace=True)"
   ]
  },
  {
   "cell_type": "code",
   "execution_count": 7,
   "metadata": {},
   "outputs": [
    {
     "data": {
      "text/html": [
       "<div>\n",
       "<style scoped>\n",
       "    .dataframe tbody tr th:only-of-type {\n",
       "        vertical-align: middle;\n",
       "    }\n",
       "\n",
       "    .dataframe tbody tr th {\n",
       "        vertical-align: top;\n",
       "    }\n",
       "\n",
       "    .dataframe thead th {\n",
       "        text-align: right;\n",
       "    }\n",
       "</style>\n",
       "<table border=\"1\" class=\"dataframe\">\n",
       "  <thead>\n",
       "    <tr style=\"text-align: right;\">\n",
       "      <th></th>\n",
       "      <th>front</th>\n",
       "      <th>rooms</th>\n",
       "      <th>lounges</th>\n",
       "      <th>bathrooms</th>\n",
       "      <th>streetWidth</th>\n",
       "      <th>stairs</th>\n",
       "      <th>propertyAge</th>\n",
       "      <th>driverRoom</th>\n",
       "      <th>tent</th>\n",
       "      <th>patio</th>\n",
       "      <th>...</th>\n",
       "      <th>apartments</th>\n",
       "      <th>maidRoom</th>\n",
       "      <th>elevator</th>\n",
       "      <th>furnihsed</th>\n",
       "      <th>pool</th>\n",
       "      <th>basement</th>\n",
       "      <th>neighbourhood</th>\n",
       "      <th>location</th>\n",
       "      <th>price</th>\n",
       "      <th>square price</th>\n",
       "    </tr>\n",
       "  </thead>\n",
       "  <tbody>\n",
       "    <tr>\n",
       "      <th>0</th>\n",
       "      <td>شرقية</td>\n",
       "      <td>5</td>\n",
       "      <td>4.0</td>\n",
       "      <td>5+</td>\n",
       "      <td>20.0</td>\n",
       "      <td>1.0</td>\n",
       "      <td>0.0</td>\n",
       "      <td>1.0</td>\n",
       "      <td>1.0</td>\n",
       "      <td>1.0</td>\n",
       "      <td>...</td>\n",
       "      <td>0</td>\n",
       "      <td>0.0</td>\n",
       "      <td>0.0</td>\n",
       "      <td>0.0</td>\n",
       "      <td>0.0</td>\n",
       "      <td>0.0</td>\n",
       "      <td>عكاظ</td>\n",
       "      <td>جنوب الرياض</td>\n",
       "      <td>1050000.0</td>\n",
       "      <td>3500.000000</td>\n",
       "    </tr>\n",
       "    <tr>\n",
       "      <th>1</th>\n",
       "      <td>غربية</td>\n",
       "      <td>4</td>\n",
       "      <td>3.0</td>\n",
       "      <td>5+</td>\n",
       "      <td>20.0</td>\n",
       "      <td>1.0</td>\n",
       "      <td>0.0</td>\n",
       "      <td>1.0</td>\n",
       "      <td>1.0</td>\n",
       "      <td>1.0</td>\n",
       "      <td>...</td>\n",
       "      <td>2.0</td>\n",
       "      <td>1.0</td>\n",
       "      <td>1.0</td>\n",
       "      <td>0.0</td>\n",
       "      <td>0.0</td>\n",
       "      <td>0.0</td>\n",
       "      <td>المهدية</td>\n",
       "      <td>غرب الرياض</td>\n",
       "      <td>3000000.0</td>\n",
       "      <td>5555.555556</td>\n",
       "    </tr>\n",
       "  </tbody>\n",
       "</table>\n",
       "<p>2 rows × 25 columns</p>\n",
       "</div>"
      ],
      "text/plain": [
       "   front  rooms lounges bathrooms  streetWidth  stairs  propertyAge  \\\n",
       "0  شرقية      5     4.0        5+         20.0     1.0          0.0   \n",
       "1  غربية      4     3.0        5+         20.0     1.0          0.0   \n",
       "\n",
       "   driverRoom  tent  patio  ...  apartments  maidRoom  elevator  furnihsed  \\\n",
       "0         1.0   1.0    1.0  ...           0       0.0       0.0        0.0   \n",
       "1         1.0   1.0    1.0  ...         2.0       1.0       1.0        0.0   \n",
       "\n",
       "   pool basement  neighbourhood     location      price  square price  \n",
       "0   0.0      0.0          عكاظ   جنوب الرياض  1050000.0   3500.000000  \n",
       "1   0.0      0.0       المهدية    غرب الرياض  3000000.0   5555.555556  \n",
       "\n",
       "[2 rows x 25 columns]"
      ]
     },
     "execution_count": 7,
     "metadata": {},
     "output_type": "execute_result"
    }
   ],
   "source": [
    "df.head(2)"
   ]
  },
  {
   "cell_type": "code",
   "execution_count": 8,
   "metadata": {
    "colab": {
     "base_uri": "https://localhost:8080/"
    },
    "id": "cZW1zDBXJkWy",
    "outputId": "a43d5c39-107c-4ee8-97ce-ece478ed9b86"
   },
   "outputs": [
    {
     "data": {
      "text/plain": [
       "front               0\n",
       "rooms               0\n",
       "lounges          1118\n",
       "bathrooms           0\n",
       "streetWidth       190\n",
       "stairs              0\n",
       "propertyAge         0\n",
       "driverRoom          0\n",
       "tent                0\n",
       "patio               0\n",
       "kitchen             0\n",
       "outdoorRoom         0\n",
       "garage              0\n",
       "duplex              0\n",
       "space               0\n",
       "apartments          0\n",
       "maidRoom            0\n",
       "elevator            0\n",
       "furnihsed           0\n",
       "pool                0\n",
       "basement            0\n",
       "neighbourhood       0\n",
       "location            0\n",
       "price               2\n",
       "square price        2\n",
       "dtype: int64"
      ]
     },
     "execution_count": 8,
     "metadata": {},
     "output_type": "execute_result"
    }
   ],
   "source": [
    "df.isnull().sum()"
   ]
  },
  {
   "cell_type": "markdown",
   "metadata": {},
   "source": [
    "### Lounges Column"
   ]
  },
  {
   "cell_type": "code",
   "execution_count": 9,
   "metadata": {},
   "outputs": [
    {
     "data": {
      "text/plain": [
       "1118"
      ]
     },
     "execution_count": 9,
     "metadata": {},
     "output_type": "execute_result"
    }
   ],
   "source": [
    "df['lounges'].isnull().sum()"
   ]
  },
  {
   "cell_type": "code",
   "execution_count": 10,
   "metadata": {},
   "outputs": [
    {
     "data": {
      "text/plain": [
       "2      15418\n",
       "3      10129\n",
       "1       6259\n",
       "2.0     4301\n",
       "3.0     2863\n",
       "4       2173\n",
       "1.0     1737\n",
       "5       1611\n",
       "4.0      659\n",
       "5.0      545\n",
       "7+        13\n",
       "Name: lounges, dtype: int64"
      ]
     },
     "execution_count": 10,
     "metadata": {},
     "output_type": "execute_result"
    }
   ],
   "source": [
    "df['lounges'].value_counts()"
   ]
  },
  {
   "cell_type": "markdown",
   "metadata": {},
   "source": [
    "### Cleaning Values of column"
   ]
  },
  {
   "cell_type": "code",
   "execution_count": 11,
   "metadata": {},
   "outputs": [
    {
     "data": {
      "text/plain": [
       "2.0    19719\n",
       "3.0    12992\n",
       "1.0     7996\n",
       "4.0     2832\n",
       "5.0     2156\n",
       "7.0       13\n",
       "Name: lounges, dtype: int64"
      ]
     },
     "execution_count": 11,
     "metadata": {},
     "output_type": "execute_result"
    }
   ],
   "source": [
    "replace=lambda x:str(x).replace('+','')\n",
    "df['lounges']=df['lounges'].apply(replace).astype(float)\n",
    "df['lounges'].value_counts()"
   ]
  },
  {
   "cell_type": "code",
   "execution_count": 12,
   "metadata": {},
   "outputs": [
    {
     "data": {
      "image/png": "[encoded data removed]",
      "text/plain": [
       "<Figure size 640x480 with 1 Axes>"
      ]
     },
     "metadata": {},
     "output_type": "display_data"
    }
   ],
   "source": [
    "df['lounges'].plot(kind=\"hist\", title=\"Histogram of lounges\");"
   ]
  },
  {
   "cell_type": "code",
   "execution_count": 13,
   "metadata": {},
   "outputs": [
    {
     "data": {
      "text/plain": [
       "0.9971749884864869"
      ]
     },
     "execution_count": 13,
     "metadata": {},
     "output_type": "execute_result"
    }
   ],
   "source": [
    "df['lounges'].var()"
   ]
  },
  {
   "cell_type": "code",
   "execution_count": 14,
   "metadata": {},
   "outputs": [
    {
     "data": {
      "text/plain": [
       "2"
      ]
     },
     "execution_count": 14,
     "metadata": {},
     "output_type": "execute_result"
    }
   ],
   "source": [
    "lounges_mean = round(df['lounges'].mean())\n",
    "lounges_mean"
   ]
  },
  {
   "cell_type": "code",
   "execution_count": 15,
   "metadata": {},
   "outputs": [
    {
     "data": {
      "text/plain": [
       "0"
      ]
     },
     "execution_count": 15,
     "metadata": {},
     "output_type": "execute_result"
    }
   ],
   "source": [
    "df['lounges'] = df['lounges'].fillna(lounges_mean)\n",
    "df['lounges'].isnull().sum()"
   ]
  },
  {
   "cell_type": "code",
   "execution_count": 16,
   "metadata": {},
   "outputs": [
    {
     "data": {
      "image/png": "[encoded data removed]",
      "text/plain": [
       "<Figure size 640x480 with 1 Axes>"
      ]
     },
     "metadata": {},
     "output_type": "display_data"
    }
   ],
   "source": [
    "df['lounges'].plot(kind=\"hist\", title=\"Histogram of lounges\");"
   ]
  },
  {
   "cell_type": "code",
   "execution_count": 17,
   "metadata": {},
   "outputs": [
    {
     "data": {
      "text/plain": [
       "0.9766638290508312"
      ]
     },
     "execution_count": 17,
     "metadata": {},
     "output_type": "execute_result"
    }
   ],
   "source": [
    "df['lounges'].var()"
   ]
  },
  {
   "cell_type": "code",
   "execution_count": 18,
   "metadata": {},
   "outputs": [
    {
     "data": {
      "text/plain": [
       "0"
      ]
     },
     "execution_count": 18,
     "metadata": {},
     "output_type": "execute_result"
    }
   ],
   "source": [
    "df['lounges'].isnull().sum()"
   ]
  },
  {
   "cell_type": "markdown",
   "metadata": {},
   "source": [
    "### streetwidth column"
   ]
  },
  {
   "cell_type": "code",
   "execution_count": 19,
   "metadata": {},
   "outputs": [
    {
     "data": {
      "text/plain": [
       "20.0     19160\n",
       "15.0     15392\n",
       "18.0      2956\n",
       "25.0      1948\n",
       "16.0      1122\n",
       "21.0       908\n",
       "12.0       680\n",
       "30.0       635\n",
       "10.0       589\n",
       "17.0       588\n",
       "19.0       579\n",
       "5.0        491\n",
       "14.0       378\n",
       "28.0       222\n",
       "22.0       216\n",
       "24.0       107\n",
       "23.0        91\n",
       "26.0        86\n",
       "13.0        79\n",
       "35.0        57\n",
       "40.0        51\n",
       "31.0        36\n",
       "36.0        34\n",
       "11.0        32\n",
       "27.0        31\n",
       "29.0        29\n",
       "1.0         21\n",
       "32.0        14\n",
       "60.0        10\n",
       "9.0          9\n",
       "8.0          8\n",
       "45.0         8\n",
       "100.0        7\n",
       "33.0         6\n",
       "4.0          5\n",
       "50.0         5\n",
       "39.0         5\n",
       "43.0         5\n",
       "34.0         5\n",
       "41.0         4\n",
       "6.0          4\n",
       "2.0          3\n",
       "38.0         3\n",
       "37.0         2\n",
       "56.0         2\n",
       "72.0         2\n",
       "96.0         2\n",
       "44.0         2\n",
       "61.0         1\n",
       "97.0         1\n",
       "62.0         1\n",
       "64.0         1\n",
       "42.0         1\n",
       "70.0         1\n",
       "51.0         1\n",
       "Name: streetWidth, dtype: int64"
      ]
     },
     "execution_count": 19,
     "metadata": {},
     "output_type": "execute_result"
    }
   ],
   "source": [
    "df['streetWidth'].value_counts()"
   ]
  },
  {
   "cell_type": "code",
   "execution_count": 20,
   "metadata": {},
   "outputs": [
    {
     "data": {
      "text/plain": [
       "17.371107643187802"
      ]
     },
     "execution_count": 20,
     "metadata": {},
     "output_type": "execute_result"
    }
   ],
   "source": [
    "df['streetWidth'].var()"
   ]
  },
  {
   "cell_type": "code",
   "execution_count": 21,
   "metadata": {},
   "outputs": [
    {
     "data": {
      "image/png": "[encoded data removed]",
      "text/plain": [
       "<Figure size 640x480 with 1 Axes>"
      ]
     },
     "metadata": {},
     "output_type": "display_data"
    }
   ],
   "source": [
    "df['streetWidth'].plot(kind=\"hist\", title=\"Histogram of streetWidth\");"
   ]
  },
  {
   "cell_type": "code",
   "execution_count": 22,
   "metadata": {},
   "outputs": [
    {
     "data": {
      "text/plain": [
       "18"
      ]
     },
     "execution_count": 22,
     "metadata": {},
     "output_type": "execute_result"
    }
   ],
   "source": [
    "streetWidth_mean = round(df['streetWidth'].mean())\n",
    "streetWidth_mean"
   ]
  },
  {
   "cell_type": "code",
   "execution_count": 23,
   "metadata": {},
   "outputs": [
    {
     "data": {
      "text/plain": [
       "0"
      ]
     },
     "execution_count": 23,
     "metadata": {},
     "output_type": "execute_result"
    }
   ],
   "source": [
    "df['streetWidth'] = df['streetWidth'].fillna(streetWidth_mean)\n",
    "df['streetWidth'].isnull().sum()"
   ]
  },
  {
   "cell_type": "code",
   "execution_count": 24,
   "metadata": {},
   "outputs": [
    {
     "data": {
      "text/plain": [
       "17.300722987845493"
      ]
     },
     "execution_count": 24,
     "metadata": {},
     "output_type": "execute_result"
    }
   ],
   "source": [
    "df['streetWidth'].var()"
   ]
  },
  {
   "cell_type": "code",
   "execution_count": 25,
   "metadata": {},
   "outputs": [
    {
     "data": {
      "image/png": "[encoded data removed]",
      "text/plain": [
       "<Figure size 640x480 with 1 Axes>"
      ]
     },
     "metadata": {},
     "output_type": "display_data"
    }
   ],
   "source": [
    "df['streetWidth'].plot(kind=\"hist\", title=\"Histogram of streetWidth\");"
   ]
  },
  {
   "cell_type": "markdown",
   "metadata": {},
   "source": [
    "### price column"
   ]
  },
  {
   "cell_type": "code",
   "execution_count": 26,
   "metadata": {},
   "outputs": [
    {
     "data": {
      "text/plain": [
       "1200000.0    1591\n",
       "1100000.0    1440\n",
       "1600000.0    1333\n",
       "1300000.0    1270\n",
       "1500000.0    1253\n",
       "             ... \n",
       "2995000.0       1\n",
       "108000.0        1\n",
       "111111.0        1\n",
       "1035000.0       1\n",
       "855000.0        1\n",
       "Name: price, Length: 672, dtype: int64"
      ]
     },
     "execution_count": 26,
     "metadata": {},
     "output_type": "execute_result"
    }
   ],
   "source": [
    "df['price'].value_counts()"
   ]
  },
  {
   "cell_type": "code",
   "execution_count": 27,
   "metadata": {},
   "outputs": [
    {
     "data": {
      "text/plain": [
       "7739817588519.33"
      ]
     },
     "execution_count": 27,
     "metadata": {},
     "output_type": "execute_result"
    }
   ],
   "source": [
    "df['price'].var()"
   ]
  },
  {
   "cell_type": "code",
   "execution_count": 28,
   "metadata": {},
   "outputs": [
    {
     "data": {
      "image/png": "[encoded data removed]",
      "text/plain": [
       "<Figure size 640x480 with 1 Axes>"
      ]
     },
     "metadata": {},
     "output_type": "display_data"
    }
   ],
   "source": [
    "df['price'].plot(kind=\"hist\", title=\"Histogram of price\");"
   ]
  },
  {
   "cell_type": "code",
   "execution_count": 29,
   "metadata": {
    "id": "qK6LdMwxLnxw"
   },
   "outputs": [
    {
     "data": {
      "text/plain": [
       "2347636"
      ]
     },
     "execution_count": 29,
     "metadata": {},
     "output_type": "execute_result"
    }
   ],
   "source": [
    "price_mean = round(df['price'].mean())\n",
    "price_mean"
   ]
  },
  {
   "cell_type": "code",
   "execution_count": 30,
   "metadata": {},
   "outputs": [
    {
     "data": {
      "text/plain": [
       "0"
      ]
     },
     "execution_count": 30,
     "metadata": {},
     "output_type": "execute_result"
    }
   ],
   "source": [
    "df['price'] = df['price'].fillna(price_mean)\n",
    "df['price'].isnull().sum()"
   ]
  },
  {
   "cell_type": "code",
   "execution_count": 31,
   "metadata": {},
   "outputs": [
    {
     "data": {
      "text/plain": [
       "7739487003678.742"
      ]
     },
     "execution_count": 31,
     "metadata": {},
     "output_type": "execute_result"
    }
   ],
   "source": [
    "df['price'].var()"
   ]
  },
  {
   "cell_type": "code",
   "execution_count": 32,
   "metadata": {},
   "outputs": [
    {
     "data": {
      "image/png": "[encoded data removed]",
      "text/plain": [
       "<Figure size 640x480 with 1 Axes>"
      ]
     },
     "metadata": {},
     "output_type": "display_data"
    }
   ],
   "source": [
    "df['price'].plot(kind=\"hist\", title=\"Histogram of price\");"
   ]
  },
  {
   "cell_type": "markdown",
   "metadata": {},
   "source": [
    "### square price column"
   ]
  },
  {
   "cell_type": "code",
   "execution_count": 33,
   "metadata": {},
   "outputs": [
    {
     "data": {
      "text/plain": [
       "5000.000000    1198\n",
       "4000.000000     997\n",
       "4166.666667     558\n",
       "5500.000000     532\n",
       "3333.333333     485\n",
       "               ... \n",
       "4327.868852       1\n",
       "2713.178295       1\n",
       "9589.041096       1\n",
       "6265.690377       1\n",
       "3288.461538       1\n",
       "Name: square price, Length: 4917, dtype: int64"
      ]
     },
     "execution_count": 33,
     "metadata": {},
     "output_type": "execute_result"
    }
   ],
   "source": [
    "df['square price'].value_counts()"
   ]
  },
  {
   "cell_type": "code",
   "execution_count": 34,
   "metadata": {},
   "outputs": [
    {
     "data": {
      "text/plain": [
       "20392858.264719818"
      ]
     },
     "execution_count": 34,
     "metadata": {},
     "output_type": "execute_result"
    }
   ],
   "source": [
    "df['square price'].var()"
   ]
  },
  {
   "cell_type": "code",
   "execution_count": 35,
   "metadata": {},
   "outputs": [
    {
     "data": {
      "image/png": "[encoded data removed]",
      "text/plain": [
       "<Figure size 640x480 with 1 Axes>"
      ]
     },
     "metadata": {},
     "output_type": "display_data"
    }
   ],
   "source": [
    "df['square price'].plot(kind=\"hist\", title=\"Histogram of square price\");"
   ]
  },
  {
   "cell_type": "code",
   "execution_count": 36,
   "metadata": {},
   "outputs": [
    {
     "data": {
      "text/plain": [
       "6088"
      ]
     },
     "execution_count": 36,
     "metadata": {},
     "output_type": "execute_result"
    }
   ],
   "source": [
    "sqprice_mean = round(df['square price'].mean())\n",
    "sqprice_mean"
   ]
  },
  {
   "cell_type": "code",
   "execution_count": 37,
   "metadata": {},
   "outputs": [
    {
     "data": {
      "text/plain": [
       "0"
      ]
     },
     "execution_count": 37,
     "metadata": {},
     "output_type": "execute_result"
    }
   ],
   "source": [
    "df['square price'] = df['square price'].fillna(sqprice_mean)\n",
    "df['square price'].isnull().sum()"
   ]
  },
  {
   "cell_type": "code",
   "execution_count": 38,
   "metadata": {},
   "outputs": [
    {
     "data": {
      "text/plain": [
       "20391987.24034119"
      ]
     },
     "execution_count": 38,
     "metadata": {},
     "output_type": "execute_result"
    }
   ],
   "source": [
    "df['square price'].var()"
   ]
  },
  {
   "cell_type": "code",
   "execution_count": 39,
   "metadata": {},
   "outputs": [
    {
     "data": {
      "image/png": "[encoded data removed]",
      "text/plain": [
       "<Figure size 640x480 with 1 Axes>"
      ]
     },
     "metadata": {},
     "output_type": "display_data"
    }
   ],
   "source": [
    "df['square price'].plot(kind=\"hist\", title=\"Histogram of square price\");"
   ]
  },
  {
   "cell_type": "markdown",
   "metadata": {},
   "source": [
    "### After Handling Missing Values"
   ]
  },
  {
   "cell_type": "code",
   "execution_count": 40,
   "metadata": {
    "colab": {
     "base_uri": "https://localhost:8080/"
    },
    "id": "WTO4Y3nlL8dI",
    "outputId": "98f8bdf5-20af-4890-b2f1-c383f103a9a7"
   },
   "outputs": [
    {
     "data": {
      "text/plain": [
       "front            0\n",
       "rooms            0\n",
       "lounges          0\n",
       "bathrooms        0\n",
       "streetWidth      0\n",
       "stairs           0\n",
       "propertyAge      0\n",
       "driverRoom       0\n",
       "tent             0\n",
       "patio            0\n",
       "kitchen          0\n",
       "outdoorRoom      0\n",
       "garage           0\n",
       "duplex           0\n",
       "space            0\n",
       "apartments       0\n",
       "maidRoom         0\n",
       "elevator         0\n",
       "furnihsed        0\n",
       "pool             0\n",
       "basement         0\n",
       "neighbourhood    0\n",
       "location         0\n",
       "price            0\n",
       "square price     0\n",
       "dtype: int64"
      ]
     },
     "execution_count": 40,
     "metadata": {},
     "output_type": "execute_result"
    }
   ],
   "source": [
    "df.isnull().sum()"
   ]
  },
  {
   "cell_type": "code",
   "execution_count": 41,
   "metadata": {
    "colab": {
     "base_uri": "https://localhost:8080/"
    },
    "id": "9t_4cFZeMYO1",
    "outputId": "6ae2596e-3d0b-4da7-ec0b-3c4ec5843b6c"
   },
   "outputs": [
    {
     "data": {
      "text/plain": [
       "شمالية          12160\n",
       "شرقية           10613\n",
       "جنوبية          10216\n",
       "غربية            6985\n",
       "شمالية شرقية     1982\n",
       "جنوبية غربية     1599\n",
       "جنوبية شرقية     1503\n",
       "شمالية غربية     1409\n",
       "ثلاث شوارع        315\n",
       "أربع شوارع         44\n",
       "Name: front, dtype: int64"
      ]
     },
     "execution_count": 41,
     "metadata": {},
     "output_type": "execute_result"
    }
   ],
   "source": [
    "df['front'].value_counts() "
   ]
  },
  {
   "cell_type": "code",
   "execution_count": 42,
   "metadata": {
    "colab": {
     "base_uri": "https://localhost:8080/"
    },
    "id": "ka0Juc7lcndA",
    "outputId": "7102abd0-a55d-48e3-fec8-384401d88df2"
   },
   "outputs": [
    {
     "data": {
      "text/plain": [
       " طويق             7775\n",
       " الرمال           4141\n",
       " عكاظ             3224\n",
       " النرجس           3151\n",
       " بدر              2718\n",
       "                  ... \n",
       "ى محمد يى الش        1\n",
       "رة النوبة            1\n",
       " البرية              1\n",
       " المرقب              1\n",
       "اص                   1\n",
       "Name: neighbourhood, Length: 295, dtype: int64"
      ]
     },
     "execution_count": 42,
     "metadata": {},
     "output_type": "execute_result"
    }
   ],
   "source": [
    "df['neighbourhood'].value_counts() "
   ]
  },
  {
   "cell_type": "markdown",
   "metadata": {
    "id": "TZvT0nOKY5RL"
   },
   "source": [
    "# Plot Heatmap"
   ]
  },
  {
   "cell_type": "code",
   "execution_count": 45,
   "metadata": {
    "colab": {
     "base_uri": "https://localhost:8080/",
     "height": 951
    },
    "id": "clKn8rddNC_4",
    "outputId": "a0f0052e-872f-4322-d522-88e2c10ebb11"
   },
   "outputs": [
    {
     "data": {
      "text/plain": [
       "<AxesSubplot:>"
      ]
     },
     "execution_count": 45,
     "metadata": {},
     "output_type": "execute_result"
    },
    {
     "data": {
      "image/png": "[encoded data removed]",
      "text/plain": [
       "<Figure size 700x500 with 2 Axes>"
      ]
     },
     "metadata": {},
     "output_type": "display_data"
    }
   ],
   "source": [
    "sns.set(rc={'figure.figsize':(7,5)}) \n",
    "sns.heatmap(df.corr(), cmap='RdBu', vmin=-1, vmax=1, annot=False, fmt='g') "
   ]
  }
 ],
 "metadata": {
  "colab": {
   "collapsed_sections": [
    "Tz0FkIKeGV6Q",
    "9clOHs8hGU9C",
    "xRJhmUALYuWG",
    "TZvT0nOKY5RL"
   ],
   "provenance": [],
   "toc_visible": true
  },
  "kernelspec": {
   "display_name": "Python 3 (ipykernel)",
   "language": "python",
   "name": "python3"
  },
  "language_info": {
   "codemirror_mode": {
    "name": "ipython",
    "version": 3
   },
   "file_extension": ".py",
   "mimetype": "text/x-python",
   "name": "python",
   "nbconvert_exporter": "python",
   "pygments_lexer": "ipython3",
   "version": "3.9.13"
  }
 },
 "nbformat": 4,
 "nbformat_minor": 1
}
